{
 "cells": [
  {
   "cell_type": "markdown",
   "id": "13addae4-cb04-4494-9955-5ca2ec45cd65",
   "metadata": {},
   "source": [
    "# Analyze Vector DB"
   ]
  },
  {
   "cell_type": "code",
   "execution_count": 11,
   "id": "bdbaa76c-33ca-4e47-95a1-099e2b9ea339",
   "metadata": {},
   "outputs": [],
   "source": [
    "#from langchain_community.vectorstores import Chroma\n",
    "from langchain_chroma import Chroma\n",
    "from langchain_huggingface.embeddings import HuggingFaceEmbeddings"
   ]
  },
  {
   "cell_type": "markdown",
   "id": "5aa98434-1313-4b11-91ec-0ce941be6901",
   "metadata": {},
   "source": [
    "## Specify the embedding model and vector DB"
   ]
  },
  {
   "cell_type": "code",
   "execution_count": 2,
   "id": "ae17a76d-4284-4dc4-bf2f-2914f622055f",
   "metadata": {},
   "outputs": [
    {
     "name": "stderr",
     "output_type": "stream",
     "text": [
      "/home/mhaya2/rag-tutorial-2025-02/.venv/lib/python3.12/site-packages/tqdm/auto.py:21: TqdmWarning: IProgress not found. Please update jupyter and ipywidgets. See https://ipywidgets.readthedocs.io/en/stable/user_install.html\n",
      "  from .autonotebook import tqdm as notebook_tqdm\n"
     ]
    }
   ],
   "source": [
    "embedding_model = HuggingFaceEmbeddings()\n",
    "database_loc = (\"./chroma_db_test1\")\n",
    "\n",
    "vectorstore = Chroma(persist_directory=database_loc,\n",
    "      embedding_function=embedding_model)"
   ]
  },
  {
   "cell_type": "markdown",
   "id": "52ea5fad-15d3-42f2-9c8a-6813e58a1ae2",
   "metadata": {},
   "source": [
    "### (optional) Print the contents"
   ]
  },
  {
   "cell_type": "code",
   "execution_count": 12,
   "id": "3046f1f2-683c-4274-84e8-4a5772df937e",
   "metadata": {},
   "outputs": [
    {
     "name": "stdout",
     "output_type": "stream",
     "text": [
      "docs: 667\n"
     ]
    }
   ],
   "source": [
    "all_docs = vectorstore.get()['documents']\n",
    "\n",
    "print(f\"docs: {len(all_docs)}\")\n",
    "\n",
    "# for idx, doc in enumerate(all_docs):\n",
    "#     print(f\"Document {idx + 1}:\")\n",
    "#     print(doc)\n",
    "#     print(\"-\" * 80)"
   ]
  },
  {
   "cell_type": "markdown",
   "id": "9cc32f82-5c4e-40eb-a8fe-ebfe58f7a3fc",
   "metadata": {},
   "source": [
    "## Run a similarity search"
   ]
  },
  {
   "cell_type": "code",
   "execution_count": 13,
   "id": "19bedd55-a8c6-4dac-a1d5-c3d4e65b9300",
   "metadata": {},
   "outputs": [],
   "source": [
    "from typing import List\n",
    "from langchain_core.runnables import chain\n",
    "from langchain_core.documents import Document\n",
    "\n",
    "@chain\n",
    "def retriever(query: str) -> List[Document]:\n",
    "    docs, scores = zip(*vectorstore.similarity_search_with_score(query, k=8))\n",
    "    for doc, score in zip(docs, scores):\n",
    "        doc.metadata[\"score\"] = score\n",
    "\n",
    "    return docs"
   ]
  },
  {
   "cell_type": "code",
   "execution_count": 14,
   "id": "2196ea26-3310-4f96-86ab-4aaada22b212",
   "metadata": {},
   "outputs": [
    {
     "name": "stdout",
     "output_type": "stream",
     "text": [
      "{'author': 'mxroberts', 'creationdate': '2024-11-25T09:15:00-05:00', 'creator': 'PScript5.dll Version 5.2.2', 'moddate': '2024-11-25T09:15:00-05:00', 'page': 31, 'page_label': '32', 'producer': 'GPL Ghostscript 9.53.3', 'source': 'LHS_Course_Directory_25-26.pdf', 'start_index': 813, 'title': 'LHS Course Directory 2025-2026 43 pages 11-19-2024.pub', 'total_pages': 44, 'score': 0.8871611952781677}\n",
      "{'author': 'mxroberts', 'creationdate': '2024-11-25T09:15:00-05:00', 'creator': 'PScript5.dll Version 5.2.2', 'moddate': '2024-11-25T09:15:00-05:00', 'page': 36, 'page_label': '37', 'producer': 'GPL Ghostscript 9.53.3', 'source': 'LHS_Course_Directory_25-26.pdf', 'start_index': 0, 'title': 'LHS Course Directory 2025-2026 43 pages 11-19-2024.pub', 'total_pages': 44, 'score': 0.9097386436588196}\n",
      "{'author': 'mxroberts', 'creationdate': '2024-11-25T09:15:00-05:00', 'creator': 'PScript5.dll Version 5.2.2', 'moddate': '2024-11-25T09:15:00-05:00', 'page': 36, 'page_label': '37', 'producer': 'GPL Ghostscript 9.53.3', 'source': 'LHS_Course_Directory_25-26.pdf', 'start_index': 0, 'title': 'LHS Course Directory 2025-2026 43 pages 11-19-2024.pub', 'total_pages': 44, 'score': 0.9097388386726379}\n",
      "{'author': 'mxroberts', 'creationdate': '2024-11-25T09:15:00-05:00', 'creator': 'PScript5.dll Version 5.2.2', 'moddate': '2024-11-25T09:15:00-05:00', 'page': 36, 'page_label': '37', 'producer': 'GPL Ghostscript 9.53.3', 'source': 'LHS_Course_Directory_25-26.pdf', 'start_index': 0, 'title': 'LHS Course Directory 2025-2026 43 pages 11-19-2024.pub', 'total_pages': 44, 'score': 0.9097388386726379}\n",
      "{'author': 'mxroberts', 'creationdate': '2024-11-25T09:15:00-05:00', 'creator': 'PScript5.dll Version 5.2.2', 'moddate': '2024-11-25T09:15:00-05:00', 'page': 31, 'page_label': '32', 'producer': 'GPL Ghostscript 9.53.3', 'source': 'LHS_Course_Directory_25-26.pdf', 'start_index': 438, 'title': 'LHS Course Directory 2025-2026 43 pages 11-19-2024.pub', 'total_pages': 44, 'score': 0.9176269769668579}\n",
      "{'author': 'mxroberts', 'creationdate': '2024-11-25T09:15:00-05:00', 'creator': 'PScript5.dll Version 5.2.2', 'moddate': '2024-11-25T09:15:00-05:00', 'page': 31, 'page_label': '32', 'producer': 'GPL Ghostscript 9.53.3', 'source': 'LHS_Course_Directory_25-26.pdf', 'start_index': 0, 'title': 'LHS Course Directory 2025-2026 43 pages 11-19-2024.pub', 'total_pages': 44, 'score': 0.9505224823951721}\n",
      "{'author': 'mxroberts', 'creationdate': '2024-11-25T09:15:00-05:00', 'creator': 'PScript5.dll Version 5.2.2', 'moddate': '2024-11-25T09:15:00-05:00', 'page': 31, 'page_label': '32', 'producer': 'GPL Ghostscript 9.53.3', 'source': 'LHS_Course_Directory_25-26.pdf', 'start_index': 0, 'title': 'LHS Course Directory 2025-2026 43 pages 11-19-2024.pub', 'total_pages': 44, 'score': 0.9505226486535717}\n",
      "{'author': 'mxroberts', 'creationdate': '2024-11-25T09:15:00-05:00', 'creator': 'PScript5.dll Version 5.2.2', 'moddate': '2024-11-25T09:15:00-05:00', 'page': 30, 'page_label': '31', 'producer': 'GPL Ghostscript 9.53.3', 'source': 'LHS_Course_Directory_25-26.pdf', 'start_index': 2783, 'title': 'LHS Course Directory 2025-2026 43 pages 11-19-2024.pub', 'total_pages': 44, 'score': 0.9738401770591736}\n"
     ]
    }
   ],
   "source": [
    "#phrase = input(\"Japanese\")\n",
    "phrase = \"architecture\"\n",
    "embedding = HuggingFaceEmbeddings().embed_query(phrase)\n",
    "\n",
    "results = retriever.invoke(phrase)\n",
    "#print(results)\n",
    "\n",
    "for result in results:\n",
    "    print(result.metadata)"
   ]
  },
  {
   "cell_type": "code",
   "execution_count": null,
   "id": "e1066394-ce4c-4aa5-b348-fd8f66b5a753",
   "metadata": {},
   "outputs": [],
   "source": []
  }
 ],
 "metadata": {
  "kernelspec": {
   "display_name": "Python 3 (ipykernel)",
   "language": "python",
   "name": "python3"
  },
  "language_info": {
   "codemirror_mode": {
    "name": "ipython",
    "version": 3
   },
   "file_extension": ".py",
   "mimetype": "text/x-python",
   "name": "python",
   "nbconvert_exporter": "python",
   "pygments_lexer": "ipython3",
   "version": "3.12.4"
  }
 },
 "nbformat": 4,
 "nbformat_minor": 5
}
