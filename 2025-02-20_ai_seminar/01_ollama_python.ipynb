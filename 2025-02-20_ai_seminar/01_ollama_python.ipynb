{
 "cells": [
  {
   "cell_type": "markdown",
   "id": "56ea18e6-8e32-4522-949b-566a24dba322",
   "metadata": {},
   "source": [
    "# Python Ollama Libary (simple exmample)"
   ]
  },
  {
   "cell_type": "code",
   "execution_count": null,
   "id": "aac9af8a-fd8e-498c-adff-20a1392679dd",
   "metadata": {},
   "outputs": [],
   "source": [
    "from ollama import generate\n",
    "\n",
    "response = generate('llama3.1:8b', 'Are there any Japanese courses offered at Lafayette High School?')\n",
    "print(response['response'])"
   ]
  },
  {
   "cell_type": "code",
   "execution_count": null,
   "id": "0886c64f-da85-41ee-886b-ee8387e58535",
   "metadata": {},
   "outputs": [],
   "source": []
  }
 ],
 "metadata": {
  "kernelspec": {
   "display_name": "Python 3 (ipykernel)",
   "language": "python",
   "name": "python3"
  },
  "language_info": {
   "codemirror_mode": {
    "name": "ipython",
    "version": 3
   },
   "file_extension": ".py",
   "mimetype": "text/x-python",
   "name": "python",
   "nbconvert_exporter": "python",
   "pygments_lexer": "ipython3",
   "version": "3.12.4"
  }
 },
 "nbformat": 4,
 "nbformat_minor": 5
}
