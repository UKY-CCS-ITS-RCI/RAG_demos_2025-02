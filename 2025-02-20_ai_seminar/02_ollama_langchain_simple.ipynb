{
 "cells": [
  {
   "cell_type": "markdown",
   "id": "6819b5eb-87da-4daa-9407-0df8750d5613",
   "metadata": {},
   "source": [
    "# Langchain Ollama Integration "
   ]
  },
  {
   "cell_type": "code",
   "execution_count": null,
   "id": "59086a74-1dd5-4e5a-9f85-decf883ba89b",
   "metadata": {},
   "outputs": [],
   "source": [
    "from langchain_core.prompts import ChatPromptTemplate\n",
    "from langchain_ollama.llms import OllamaLLM"
   ]
  },
  {
   "cell_type": "code",
   "execution_count": null,
   "id": "e4942ab1-faa8-407c-b4b1-b98a320c3556",
   "metadata": {},
   "outputs": [],
   "source": [
    "template = \"\"\"Question: {question}\n",
    "\n",
    "Answer: Respond as a councelor for the school.\"\"\"\n",
    "\n",
    "prompt = ChatPromptTemplate.from_template(template)\n",
    "\n",
    "model = OllamaLLM(model=\"llama3.1:8b\")\n",
    "\n",
    "chain = prompt | model\n",
    "\n",
    "r = chain.invoke({\"question\": \"I am interested in architecture. What courses can I take at Lafayette High School?\"})\n",
    "print(r)"
   ]
  },
  {
   "cell_type": "code",
   "execution_count": null,
   "id": "4680b69d-923e-4d68-8946-bb80c8fb25e0",
   "metadata": {},
   "outputs": [],
   "source": [
    "r = chain.invoke({\"question\": \"I am interested in Japanese. What courses can I take at Lafayette High School?\"})\n",
    "print(r)"
   ]
  },
  {
   "cell_type": "code",
   "execution_count": null,
   "id": "71b2b3cb-c533-4502-be56-0b89fb680a42",
   "metadata": {},
   "outputs": [],
   "source": []
  }
 ],
 "metadata": {
  "kernelspec": {
   "display_name": "Python 3 (ipykernel)",
   "language": "python",
   "name": "python3"
  },
  "language_info": {
   "codemirror_mode": {
    "name": "ipython",
    "version": 3
   },
   "file_extension": ".py",
   "mimetype": "text/x-python",
   "name": "python",
   "nbconvert_exporter": "python",
   "pygments_lexer": "ipython3",
   "version": "3.12.4"
  }
 },
 "nbformat": 4,
 "nbformat_minor": 5
}
