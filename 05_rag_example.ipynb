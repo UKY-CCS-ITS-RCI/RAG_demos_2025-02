{
 "cells": [
  {
   "cell_type": "markdown",
   "id": "a3bed6bd-ac11-4ddc-9410-d0ff32f10d6f",
   "metadata": {},
   "source": [
    "#  RAG Example (small but complete)\n",
    "\n",
    "- (saved) Vector DB (Chroma)\n",
    "- Ollama"
   ]
  },
  {
   "cell_type": "code",
   "execution_count": null,
   "id": "23a789fb-e889-4bf6-b478-322294a381d0",
   "metadata": {},
   "outputs": [],
   "source": [
    "#from langchain_community.vectorstores import Chroma\n",
    "from langchain_chroma import Chroma\n",
    "from langchain_huggingface.embeddings import HuggingFaceEmbeddings"
   ]
  },
  {
   "cell_type": "markdown",
   "id": "21d83986-f30c-44d8-bfb6-75abb0e1d568",
   "metadata": {},
   "source": [
    "## Specify embedding model and vector store"
   ]
  },
  {
   "cell_type": "code",
   "execution_count": null,
   "id": "a463e444-187e-453b-b850-09ed74b01fea",
   "metadata": {},
   "outputs": [],
   "source": [
    "embedding_model = HuggingFaceEmbeddings()\n",
    "database_loc = (\"./chroma_db_test1\")\n",
    "\n",
    "vectorstore = Chroma(persist_directory=database_loc,\n",
    "      embedding_function=embedding_model)\n",
    "retriever = vectorstore.as_retriever(search_type=\"similarity\", search_kwargs={\"k\": 8})"
   ]
  },
  {
   "cell_type": "markdown",
   "id": "490100fe-04d1-455c-aec1-0074bcd6194d",
   "metadata": {},
   "source": [
    "## Specify the LLM\n",
    "\n",
    "We are going to use Ollama to keep it simple"
   ]
  },
  {
   "cell_type": "code",
   "execution_count": null,
   "id": "ff3bfd31-9fdf-4348-a3e8-ec43b246575a",
   "metadata": {},
   "outputs": [],
   "source": [
    "from langchain_ollama import OllamaLLM\n",
    "from langchain.callbacks.manager import CallbackManager\n",
    "from langchain.callbacks.streaming_stdout import StreamingStdOutCallbackHandler\n",
    "\n",
    "llm = OllamaLLM(model='llama3.1:8b') "
   ]
  },
  {
   "cell_type": "markdown",
   "id": "67e5f849-0580-4279-9c53-3385e9372000",
   "metadata": {},
   "source": [
    "## Create a simple prompt template\n",
    "\n",
    "This can be handled in many ways and can be very simple to complex."
   ]
  },
  {
   "cell_type": "code",
   "execution_count": null,
   "id": "1da6a13f-f19b-40e3-8088-711d66d10ba9",
   "metadata": {},
   "outputs": [],
   "source": [
    "from langchain_core.prompts import PromptTemplate\n",
    "\n",
    "template = \"\"\"You are an AI counselor. Answer questions using the provided information. \n",
    "Make sure to cover as much information as possible.\n",
    "{context}\n",
    "Question: {question}\n",
    "\n",
    "Answer:\"\"\"\n",
    "\n",
    "prompt = PromptTemplate.from_template(template)"
   ]
  },
  {
   "cell_type": "markdown",
   "id": "0278d486-0ae7-4289-b45f-35af800e5257",
   "metadata": {},
   "source": [
    "## Create a chain of steps"
   ]
  },
  {
   "cell_type": "code",
   "execution_count": null,
   "id": "74011aa4-1506-4af2-b62b-11d7946f4210",
   "metadata": {},
   "outputs": [],
   "source": [
    "from typing_extensions import List, TypedDict\n",
    "from langchain_core.documents import Document\n",
    "\n",
    "# Define state for application\n",
    "class State(TypedDict):\n",
    "    question: str\n",
    "    context: List[Document]\n",
    "    answer: str\n",
    "\n",
    "\n",
    "# Define application steps\n",
    "def retrieve(state: State):\n",
    "    retrieved_docs = vectorstore.similarity_search(state[\"question\"])\n",
    "    return {\"context\": retrieved_docs}\n",
    "\n",
    "def generate(state: State):\n",
    "    docs_content = \"\\n\\n\".join(doc.page_content for doc in state[\"context\"])\n",
    "    messages = prompt.invoke({\"question\": state[\"question\"], \"context\": docs_content})\n",
    "    response = llm.invoke(messages)\n",
    "    #print(docs_content)\n",
    "    #print(response)\n",
    "    #return {\"answer\": response.content}\n",
    "    return {\"answer\": response}"
   ]
  },
  {
   "cell_type": "markdown",
   "id": "48d038f1-cd17-4295-bfac-f4a22c4b6fd4",
   "metadata": {},
   "source": [
    "## Connect them and save them as a Langgraph\n",
    "\n",
    "This is quite new. Chain creation was done thorugh piping until recently."
   ]
  },
  {
   "cell_type": "code",
   "execution_count": 18,
   "id": "caf3386a-2a1b-482e-bb47-f03c68d52b82",
   "metadata": {},
   "outputs": [],
   "source": [
    "from langgraph.graph import START, StateGraph\n",
    "\n",
    "# Compile application and test\n",
    "graph_builder = StateGraph(State).add_sequence([retrieve, generate])\n",
    "graph_builder.add_edge(START, \"retrieve\")\n",
    "graph = graph_builder.compile()"
   ]
  },
  {
   "cell_type": "code",
   "execution_count": 26,
   "id": "d29885de-f4e9-4be8-bfcd-958f00765933",
   "metadata": {},
   "outputs": [
    {
     "data": {
      "image/png": "[encoded data removed]",
      "text/plain": [
       "<IPython.core.display.Image object>"
      ]
     },
     "metadata": {},
     "output_type": "display_data"
    }
   ],
   "source": [
    "from IPython.display import Image, display\n",
    "\n",
    "display(Image(graph.get_graph().draw_mermaid_png()))"
   ]
  },
  {
   "cell_type": "markdown",
   "id": "5b2fd375-c914-4327-a5ef-7a373dd0b802",
   "metadata": {},
   "source": [
    "## Now comes the fun part!"
   ]
  },
  {
   "cell_type": "code",
   "execution_count": 25,
   "id": "824fe0d3-c1c1-4113-99a5-5ecd8b904b83",
   "metadata": {},
   "outputs": [
    {
     "name": "stdout",
     "output_type": "stream",
     "text": [
      "Answer: Yes, there are Japanese classes offered at Lafayette. Specifically, you can take Adv Japanese 1, Adv Japanese 2, Adv Japanese 3, and AP Japanese Language & Culture as elective courses. These classes cover various aspects of the Japanese language, including listening, speaking, reading, writing, and cultural studies.\n",
      "\n",
      "To provide more details:\n",
      "\n",
      "* Adv Japanese 1 covers basic listening, speaking, reading, and writing skills, with an introduction to Japanese culture and career opportunities.\n",
      "* Adv Japanese 2 builds on the previous course, focusing on improving listening, speaking, reading, and writing skills, as well as introducing famous Japanese people and popular topics.\n",
      "* Adv Japanese 3 emphasizes accurate and resourceful expression in both oral and written communication, with a fast-paced class environment.\n",
      "* AP Japanese Language & Culture explores social, political, religious, and educational issues, traditional versus modern gender roles, and the application of language skills in formal and informal settings.\n",
      "\n",
      "Keep in mind that there is an additional fee of $10 for each of these courses.\n",
      "\n",
      "\n",
      "********************************************************************************\n",
      "Context: [Document(id='9ce500eb-4cb2-4b6f-b5f8-9908a1e0b8c1', metadata={'author': 'mxroberts', 'creationdate': '2024-11-25T09:15:00-05:00', 'creator': 'PScript5.dll Version 5.2.2', 'moddate': '2024-11-25T09:15:00-05:00', 'page': 29, 'page_label': '30', 'producer': 'GPL Ghostscript 9.53.3', 'source': 'LHS_Course_Directory_25-26.pdf', 'start_index': 2562, 'title': 'LHS Course Directory 2025-2026 43 pages 11-19-2024.pub', 'total_pages': 44}, page_content='French 101 Dual Credit.   Note: there might be a college fee required to take this course. \\n \\nAdv Japanese 1       Credit:  1 \\nStudents will learn basic listening, speaking, read ing and writing skills.  They will also be intro- \\nduced to Japanese culture and career opportunities utilizing Japanese language skills.  Additional \\nfee:  $10. \\nAdv Japanese 2       Credit:  1 \\nStudents will continue improving listening, speakin g, reading and writing skills.  They will also'), Document(id='5219123c-fc77-44f6-8f03-8b7f25ce73b5', metadata={'author': 'mxroberts', 'creationdate': '2024-11-25T09:15:00-05:00', 'creator': 'PScript5.dll Version 5.2.2', 'moddate': '2024-11-25T09:15:00-05:00', 'page': 29, 'page_label': '30', 'producer': 'GPL Ghostscript 9.53.3', 'source': 'LHS_Course_Directory_25-26.pdf', 'start_index': 3428, 'title': 'LHS Course Directory 2025-2026 43 pages 11-19-2024.pub', 'total_pages': 44}, page_content='with reasonable fluency will be one of the main goa ls of this course.   The class will be fast \\npaced.  Prerequisite:  successful completion of Advanced Japanese 2.  Additional fee:  $10.'), Document(id='2ba66211-b806-4511-a21f-c340a806f8bb', metadata={'author': 'mxroberts', 'creationdate': '2024-11-25T09:15:00-05:00', 'creator': 'PScript5.dll Version 5.2.2', 'moddate': '2024-11-25T09:15:00-05:00', 'page': 29, 'page_label': '30', 'producer': 'GPL Ghostscript 9.53.3', 'source': 'LHS_Course_Directory_25-26.pdf', 'start_index': 1904, 'title': 'LHS Course Directory 2025-2026 43 pages 11-19-2024.pub', 'total_pages': 44}, page_content='French 101 Dual Credit   11th-12th  Credit:  1 \\nThis course is designed to provide the student with the vocabulary and structures necessary to \\nspeak and understand elementary French at the Ameri can Council of Teachers of Foreign Lan- \\nguages novice level. A completed Bluegrass Communit y & Technical College application is needed \\nPrerequisite: successful completion of Adv French 3 . This course is paired with French 102 Dual \\nCredit.  Note: there might be a college fee required to take this course. \\nFrench 102 Dual Credit   11th-12th  Credit:  1 \\nThis course focuses on intermediate level speaking, listening, reading and writing. It is paired with \\nFrench 101 Dual Credit.   Note: there might be a college fee required to take this course. \\n \\nAdv Japanese 1       Credit:  1 \\nStudents will learn basic listening, speaking, read ing and writing skills.  They will also be intro- \\nduced to Japanese culture and career opportunities utilizing Japanese language skills.  Additional \\nfee:  $10. \\nAdv Japanese 2       Credit:  1 \\nStudents will continue improving listening, speakin g, reading and writing skills.  They will also \\nlearn about famous Japanese people and do some exte nded readings on popular topics.  Emphasis \\nwill be placed on grammatical structures and vocabu lary development.  Prerequisite:  successful \\ncompletion of Advanced Japanese 1.  Additional fee:  $10. \\nAdv Japanese 3       Credit:  1 \\nThe ability of students to express their ideas accu rately and resourcefully both orally and in writing \\nwith reasonable fluency will be one of the main goa ls of this course.   The class will be fast \\npaced.  Prerequisite:  successful completion of Advanced Japanese 2.  Additional fee:  $10.'), Document(id='9b18eda6-837c-4064-bf47-854afc14651f', metadata={'author': 'mxroberts', 'creationdate': '2024-11-25T09:15:00-05:00', 'creator': 'PScript5.dll Version 5.2.2', 'moddate': '2024-11-25T09:15:00-05:00', 'page': 30, 'page_label': '31', 'producer': 'GPL Ghostscript 9.53.3', 'source': 'LHS_Course_Directory_25-26.pdf', 'start_index': 333, 'title': 'LHS Course Directory 2025-2026 43 pages 11-19-2024.pub', 'total_pages': 44}, page_content='Advanced Japanese 3.  Additional fee:  $10. \\nAP Japanese Language & Culture     Credit:  1 \\nStudents enrolled in this course will gain an intro duction to social, political, religious and educa- \\ntional issues, as well as traditional versus modern  gender roles.  They will learn to apply the appro-\\npriate register in the application of these skills as well as level of formality, which will all aid i n suc-')]\n",
      "\n",
      "\n"
     ]
    }
   ],
   "source": [
    "response = graph.invoke({\"question\": \"Are there Japanese classes offered at Lafayette?\"})\n",
    "\n",
    "print(f'Answer: {response[\"answer\"]}\\n\\n')\n",
    "print(\"*\" *80)      \n",
    "print(f'Context: {response[\"context\"]}\\n\\n')"
   ]
  },
  {
   "cell_type": "code",
   "execution_count": 24,
   "id": "ce28c44c-4e28-41d0-809f-8b7b690e790e",
   "metadata": {},
   "outputs": [
    {
     "name": "stdout",
     "output_type": "stream",
     "text": [
      "Answer: SCAPA (School for the Creative and Performing Arts) at Lafayette is a program that provides students who are gifted or talented in the arts with the opportunity to further develop and enhance their abilities in the fine arts. The program focuses on both arts and academics, offering students a unique experience.\n",
      "\n",
      "At SCAPA at Lafayette, students take two classes per year in their designated area of arts specialization, such as ballet, contemporary dance, theatre, technical theatre, literary arts, music (band, strings, keyboard or voice), or visual arts. Arts area instruction is provided by specialized instructors.\n",
      "\n",
      "Additionally, SCAPA offers students access to master classes, exhibits, lectures, and other off-campus experiences throughout the year. To be admitted to SCAPA at Lafayette, students must apply and successfully audition through the FCPS (Fayette County Public Schools) gifted and talented visual & performing arts identification process.\n",
      "\n",
      "The program also allows for Optional SCAPA Minors, which recognizes students who earn 3 or more credits in related Lafayette High School arts courses in the same discipline outside of their major. This is a way to acknowledge students' additional achievements in the arts beyond their primary area of study.\n",
      "\n",
      "\n",
      "********************************************************************************\n",
      "Context: [Document(id='471229f2-d15f-42f8-9706-f7217fd48e6d', metadata={'author': 'mxroberts', 'creationdate': '2024-11-25T09:15:00-05:00', 'creator': 'PScript5.dll Version 5.2.2', 'moddate': '2024-11-25T09:15:00-05:00', 'page': 33, 'page_label': '34', 'producer': 'GPL Ghostscript 9.53.3', 'source': 'LHS_Course_Directory_25-26.pdf', 'start_index': 1196, 'title': 'LHS Course Directory 2025-2026 43 pages 11-19-2024.pub', 'total_pages': 44}, page_content='dates and application information. \\nStudents who attend SCAPA at Lafayette take two classes per year in their designated area.  Arts \\nareas include ballet, contemporary dance, theatre, technical theatre, literary arts, music (band, \\nstrings, keyboard or voice) and visual arts.  Arts area instruction is provided by arts specialists.  See \\nwww.fcps.net/scapalhs for program information.  There are additional fees associated with \\nSCAPA Art classes ($70-$80) and other SCAPA classes ($15-$20).'), Document(id='12c17801-7697-4cd4-9144-0d6138aac194', metadata={'author': 'mxroberts', 'creationdate': '2024-11-25T09:15:00-05:00', 'creator': 'PScript5.dll Version 5.2.2', 'moddate': '2024-11-25T09:15:00-05:00', 'page': 33, 'page_label': '34', 'producer': 'GPL Ghostscript 9.53.3', 'source': 'LHS_Course_Directory_25-26.pdf', 'start_index': 910, 'title': 'LHS Course Directory 2025-2026 43 pages 11-19-2024.pub', 'total_pages': 44}, page_content='master classes, exhibits, lectures and other off-campus experiences throughout the year. \\nAdmission to SCAPA requires an application and succ essful audition through the FCPS gifted and \\ntalented visual & performing arts identification pr ocess.  See www.fcps.net/scapalhs for current \\ndates and application information. \\nStudents who attend SCAPA at Lafayette take two classes per year in their designated area.  Arts \\nareas include ballet, contemporary dance, theatre, technical theatre, literary arts, music (band, \\nstrings, keyboard or voice) and visual arts.  Arts area instruction is provided by arts specialists.  See \\nwww.fcps.net/scapalhs for program information.  There are additional fees associated with \\nSCAPA Art classes ($70-$80) and other SCAPA classes ($15-$20).  \\nOptional SCAPA Minors:  Students who earn 3 or more credits in related LHS arts courses in \\nthe same discipline outside of their major can be r ecognized as having earned an arts minor. Relat-'), Document(id='a6917b33-5de3-4552-bf9e-ae27583242d7', metadata={'author': 'mxroberts', 'creationdate': '2024-11-25T09:15:00-05:00', 'creator': 'PScript5.dll Version 5.2.2', 'moddate': '2024-11-25T09:15:00-05:00', 'page': 33, 'page_label': '34', 'producer': 'GPL Ghostscript 9.53.3', 'source': 'LHS_Course_Directory_25-26.pdf', 'start_index': 910, 'title': 'LHS Course Directory 2025-2026 43 pages 11-19-2024.pub', 'total_pages': 44}, page_content='master classes, exhibits, lectures and other off-campus experiences throughout the year. \\nAdmission to SCAPA requires an application and succ essful audition through the FCPS gifted and \\ntalented visual & performing arts identification pr ocess.  See www.fcps.net/scapalhs for current \\ndates and application information. \\nStudents who attend SCAPA at Lafayette take two classes per year in their designated area.  Arts \\nareas include ballet, contemporary dance, theatre, technical theatre, literary arts, music (band, \\nstrings, keyboard or voice) and visual arts.  Arts area instruction is provided by arts specialists.  See \\nwww.fcps.net/scapalhs for program information.  There are additional fees associated with \\nSCAPA Art classes ($70-$80) and other SCAPA classes ($15-$20).  \\nOptional SCAPA Minors:  Students who earn 3 or more credits in related LHS arts courses in \\nthe same discipline outside of their major can be r ecognized as having earned an arts minor. Relat-'), Document(id='d5375f95-58e1-4bc6-9efe-1059709f5e50', metadata={'author': 'mxroberts', 'creationdate': '2024-11-25T09:15:00-05:00', 'creator': 'PScript5.dll Version 5.2.2', 'moddate': '2024-11-25T09:15:00-05:00', 'page': 33, 'page_label': '34', 'producer': 'GPL Ghostscript 9.53.3', 'source': 'LHS_Course_Directory_25-26.pdf', 'start_index': 0, 'title': 'LHS Course Directory 2025-2026 43 pages 11-19-2024.pub', 'total_pages': 44}, page_content='33 \\n Additional elective courses in Pre-Engineering include: \\n Civil Engineering   Engineering 1   \\n Engineering 2   Introduction to 3D Printing Technology \\n Introduction Architecture  Architectural Design \\n Robotics Engineering  Engineering Internship \\n Introduction to Programming  Project-Based Programming \\n AP Computer Science Principles AP Computer Science  A \\n Computer Science Internship \\n \\nFor more information contact: \\nMs. Diane Remley, Mr. Taylor Steele or Ms. Rebecca Mickelson   \\nLafayette High School \\n401 Reed Lane \\nLexington, KY  40503 \\n422.3474 \\n \\nSchool for the Creative and Performing Arts  \\nThe SCAPA program provides students who are gifted/ talented in the arts the opportunity to fur- \\nther develop and enhance their abilities in the fin e arts in a setting that focuses on the arts and \\nacademics. Additionally, every student is given the  opportunity to participate in performances, \\nmaster classes, exhibits, lectures and other off-campus experiences throughout the year. \\nAdmission to SCAPA requires an application and succ essful audition through the FCPS gifted and \\ntalented visual & performing arts identification pr ocess.  See www.fcps.net/scapalhs for current \\ndates and application information. \\nStudents who attend SCAPA at Lafayette take two classes per year in their designated area.  Arts \\nareas include ballet, contemporary dance, theatre, technical theatre, literary arts, music (band, \\nstrings, keyboard or voice) and visual arts.  Arts area instruction is provided by arts specialists.  See \\nwww.fcps.net/scapalhs for program information.  There are additional fees associated with \\nSCAPA Art classes ($70-$80) and other SCAPA classes ($15-$20).  \\nOptional SCAPA Minors:  Students who earn 3 or more credits in related LHS arts courses in \\nthe same discipline outside of their major can be r ecognized as having earned an arts minor. Relat- \\ned arts courses will be Lafayette arts electives an d NOT SCAPA courses. Minors are NOT required')]\n",
      "\n",
      "\n"
     ]
    }
   ],
   "source": [
    "response = graph.invoke({\"question\": \"What is SCAPA at Lafayette?\"})\n",
    "\n",
    "print(f'Answer: {response[\"answer\"]}\\n\\n')\n",
    "print(\"*\" *80)      \n",
    "print(f'Context: {response[\"context\"]}\\n\\n')"
   ]
  },
  {
   "cell_type": "code",
   "execution_count": null,
   "id": "540a2472-f8e6-4cc7-b6f7-223c7591d47b",
   "metadata": {},
   "outputs": [],
   "source": []
  }
 ],
 "metadata": {
  "kernelspec": {
   "display_name": "Python 3 (ipykernel)",
   "language": "python",
   "name": "python3"
  },
  "language_info": {
   "codemirror_mode": {
    "name": "ipython",
    "version": 3
   },
   "file_extension": ".py",
   "mimetype": "text/x-python",
   "name": "python",
   "nbconvert_exporter": "python",
   "pygments_lexer": "ipython3",
   "version": "3.12.4"
  }
 },
 "nbformat": 4,
 "nbformat_minor": 5
}
